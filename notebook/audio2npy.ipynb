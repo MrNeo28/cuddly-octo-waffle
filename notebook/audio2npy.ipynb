{
 "cells": [
  {
   "cell_type": "code",
   "execution_count": null,
   "metadata": {},
   "outputs": [],
   "source": [
    "import soundfile as sf\n",
    "import librosa\n",
    "import json\n",
    "import numpy as np\n",
    "import pickle\n",
    "import pandas as pd\n",
    "from pathlib import Path\n",
    "import os\n",
    "from joblib import Parallel, delayed\n",
    "import torch\n",
    "from librosa import display\n",
    "from joblib import Parallel, delayed\n",
    "import matplotlib.pyplot as plt\n",
    "from tqdm.notebook import tqdm\n",
    "from pqdm.processes import pqdm\n",
    "from box import Box"
   ]
  },
  {
   "cell_type": "code",
   "execution_count": null,
   "metadata": {},
   "outputs": [],
   "source": [
    "config = Box.from_json(\"config.json\")"
   ]
  },
  {
   "cell_type": "code",
   "execution_count": null,
   "metadata": {},
   "outputs": [],
   "source": [
    "def get_clip_sr(file_path):\n",
    "    clip, sr_native = af.read(file_path)\n",
    "    clip = librosa.to_mono(clip)\n",
    "    clip = clip.astype('float32')\n",
    "    sr = 32000\n",
    "    length = np.ceil(len(clip) / sr_native)\n",
    "    return clip, sr"
   ]
  },
  {
   "cell_type": "code",
   "execution_count": null,
   "metadata": {},
   "outputs": [],
   "source": [
    "def get_melspec(clip, sr, period, IMAGE_WIDTH, IMAGE_HEIGHT, fmin, htk, power, n_fft, display=False):\n",
    "    sr = SR\n",
    "    train_aug = True\n",
    "    length = len(clip)\n",
    "    if period > length:\n",
    "        start = np.random.randint(period - length)\n",
    "        tmp = np.zeros(period, dtype=clip.dtype)\n",
    "        tmp[start : start + length] = clip\n",
    "        clip = tmp\n",
    "        \n",
    "    n_fft = 1024\n",
    "    win_length = n_fft#//2\n",
    "    hop_length = int((len(clip) - win_length + n_fft) / IMAGE_WIDTH) + 1 \n",
    "    spect = np.abs(librosa.stft(y=clip, n_fft=n_fft, hop_length=hop_length, win_length=win_length))\n",
    "    if spect.shape[1] < IMAGE_WIDTH:\n",
    "        #print('too large hop length, len(clip)=', len(clip))\n",
    "        hop_length = hop_length - 1\n",
    "        spect = np.abs(librosa.stft(y=clip, n_fft=n_fft, hop_length=hop_length, win_length=win_length))\n",
    "    if spect.shape[1] > IMAGE_WIDTH:\n",
    "        spect = spect[:, :IMAGE_WIDTH]\n",
    "    n_mels = IMAGE_HEIGHT // 2\n",
    "    if train_aug:\n",
    "        power = 1.5 + np.random.rand()\n",
    "        spect = np.power(spect, power)\n",
    "    else:\n",
    "        spect = np.square(spect)\n",
    "    spect = librosa.feature.melspectrogram(S=spect, sr=sr, n_fft=n_fft, n_mels=n_mels, fmin=300, fmax=16000)\n",
    "    spect = librosa.power_to_db(spect)\n",
    "    #print(spect.shape)\n",
    "    spect = resize(spect, (IMAGE_HEIGHT, IMAGE_WIDTH), preserve_range=True, anti_aliasing=True)\n",
    "    spect = spect - spect.min()\n",
    "    smax = spect.max()\n",
    "    if smax >= 0.001:\n",
    "        spect = spect / smax\n",
    "    else:\n",
    "        spect[...] = 0\n",
    "    if display:\n",
    "        plt.imshow(spect)\n",
    "        plt.show()\n",
    "    # clip, sr = librosa.load(path, sr=None, mono=False)\n",
    "    return spect"
   ]
  },
  {
   "cell_type": "code",
   "execution_count": null,
   "metadata": {},
   "outputs": [],
   "source": [
    "def ogg2np(ebird, secondary, filename):\n",
    "    secondary_ebird = secondary\n",
    "    input_path = Path('../input/birdclef-2022')\n",
    "    output_path = Path('./')\n",
    "    input_path = input_path / 'train_audio' / filename\n",
    "    filename = filename.split('/')[1].split('.')[0]\n",
    "    pathname = filename.split('/')[0]\n",
    "    record, sr = get_clip_sr(input_path)\n",
    "    period = int(np.ceil(PERIOD * sr))\n",
    "    length = record.shape[0]\n",
    "    record = get_melspec(record, SR, period, IMAGE_WIDTH, IMAGE_HEIGHT, fmin, htk, power, n_fft)\n",
    "    start_time = start_time + int(frame_len * sample_rate)\n",
    "    end_time = end_time + int(frame_len * sample_rate)\n",
    "    if period == 0:\n",
    "        filename = '%s_%d.npy' % (filename, 0)\n",
    "        np.save(output_path / filename, record)    \n",
    "    else:\n",
    "        for i in range(int(np.ceil(length/period))):  \n",
    "            filename_i = '%s_%d.npy' % (filename, i)\n",
    "            record_i = record[i*period : (i+3)*period]\n",
    "            np.save( output_path / filename_i, record_i)\n",
    "        return length, ebird, secondary_ebird, output_path, filename_i\n",
    "    \n",
    "    return length, ebird, secondary_ebird, filename"
   ]
  }
 ],
 "metadata": {
  "language_info": {
   "name": "python"
  },
  "orig_nbformat": 4
 },
 "nbformat": 4,
 "nbformat_minor": 2
}
